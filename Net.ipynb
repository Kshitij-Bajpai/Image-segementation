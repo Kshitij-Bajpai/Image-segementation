{
  "nbformat": 4,
  "nbformat_minor": 0,
  "metadata": {
    "colab": {
      "name": "Net.ipynb",
      "provenance": [],
      "private_outputs": true,
      "collapsed_sections": [],
      "machine_shape": "hm",
      "authorship_tag": "ABX9TyMXdm1gH94KXq4WHtXywwhF",
      "include_colab_link": true
    },
    "kernelspec": {
      "name": "python3",
      "display_name": "Python 3"
    },
    "accelerator": "GPU"
  },
  "cells": [
    {
      "cell_type": "markdown",
      "metadata": {
        "id": "view-in-github",
        "colab_type": "text"
      },
      "source": [
        "<a href=\"https://colab.research.google.com/github/Rapheal-Jones/Image-segementation/blob/master/Net.ipynb\" target=\"_parent\"><img src=\"https://colab.research.google.com/assets/colab-badge.svg\" alt=\"Open In Colab\"/></a>"
      ]
    },
    {
      "cell_type": "code",
      "metadata": {
        "id": "q2uRN6peoh2z"
      },
      "source": [
        "from google.colab import drive\n",
        "drive.mount('/content/drive')"
      ],
      "execution_count": null,
      "outputs": []
    },
    {
      "cell_type": "code",
      "metadata": {
        "id": "1FZjgIK_-mFc"
      },
      "source": [
        "%tensorflow_version 2.x\n",
        "import tensorflow as tf\n",
        "import os\n",
        "import cv2\n",
        "import numpy as np"
      ],
      "execution_count": null,
      "outputs": []
    },
    {
      "cell_type": "code",
      "metadata": {
        "id": "4F_6xDArBfqf"
      },
      "source": [
        "from tensorflow.keras import Sequential,Model\n",
        "from tensorflow.keras.layers import Conv2D, MaxPool2D, Dense, Flatten, Activation,Add,BatchNormalization,Input\n",
        "from tensorflow.keras.layers import GlobalAveragePooling2D,AveragePooling2D,UpSampling2D,concatenate,Reshape,LeakyReLU"
      ],
      "execution_count": null,
      "outputs": []
    },
    {
      "cell_type": "code",
      "metadata": {
        "id": "VjXMSAC_o6CW"
      },
      "source": [
        "device_name = tf.test.gpu_device_name()\n",
        "device_name"
      ],
      "execution_count": null,
      "outputs": []
    },
    {
      "cell_type": "code",
      "metadata": {
        "id": "z8iPkkSIoK5H"
      },
      "source": [
        "def images(path):\n",
        "    i=0\n",
        "    image,label=[],[]\n",
        "    folder_file=os.listdir(os.path.join(path,dir[0]))\n",
        "\n",
        "    for img in folder_file[:1000]:\n",
        "        \n",
        "        img_path=os.path.join(path,dir[0],img)\n",
        "        lab_path=os.path.join(path,dir[1],img)\n",
        "        \n",
        "        img_arr=cv2.imread(img_path,cv2.IMREAD_UNCHANGED)\n",
        "        lab_arr=cv2.imread(lab_path,cv2.IMREAD_COLOR)\n",
        "\n",
        "        img_normalize=cv2.normalize(img_arr,None,norm_type=cv2.NORM_MINMAX, dtype=cv2.CV_32F)\n",
        "        lab_normalize=cv2.normalize(lab_arr,None,norm_type=cv2.NORM_MINMAX, dtype=cv2.CV_32F)\n",
        "\n",
        "        image.append(img_normalize)\n",
        "        label.append(lab_normalize)\n",
        "        \n",
        "        i+=1\n",
        "        print(i,end=' ')\n",
        "\n",
        "    return np.array(image),np.array(label)"
      ],
      "execution_count": null,
      "outputs": []
    },
    {
      "cell_type": "code",
      "metadata": {
        "id": "49I5uA0SoQ5D"
      },
      "source": [
        "\n",
        "dir=['image','label']\n",
        "\n",
        "train_folder = \"/content/drive/My Drive/Project/datasets/train/\"\n",
        "#test_folder = \"/content/drive/My Drive/Project/datasets/test/\"\n",
        "#validate_folder = \"/content/drive/My Drive/Project/datasets/val/\"\n",
        "\n",
        "\n",
        "image_train, label_train = images(train_folder)\n",
        "# image_test,label_test = images(test_folder)\n",
        "#image_val, label_val = images(validate_folder)"
      ],
      "execution_count": null,
      "outputs": []
    },
    {
      "cell_type": "code",
      "metadata": {
        "id": "ieavTNR6AblU"
      },
      "source": [
        "def block_1(layer,filter1,filter2,filter3,block):\n",
        "\n",
        "    layer = Conv2D(filter1,kernel_size=(1,1),dilation_rate=(1,1),padding='same',name='block_1_conv_1'+block)(layer)\n",
        "    layer = BatchNormalization(name='block_1_BN_1'+block)(layer)\n",
        "    layer = LeakyReLU(alpha=0.2,name='block_1_Acti_1'+block)(layer)\n",
        "\n",
        "    layer = Conv2D(filter2,kernel_size=(3,3),dilation_rate=(2,2),padding='same',name='block_1_conv_2'+block)(layer)\n",
        "    layer = BatchNormalization(name='block_1_BN_2'+block)(layer)\n",
        "    layer = LeakyReLU(alpha=0.2,name='block_1_Acti_2'+block)(layer)\n",
        "\n",
        "    layer = Conv2D(filter3,kernel_size=(1,1),dilation_rate=(1,1),padding='same',name='block_1_conv_3'+block)(layer)\n",
        "    layer = BatchNormalization(name='block_1_BN_3'+block)(layer)\n",
        "\n",
        "    #layer = MaxPool2D(pool_size=(2,2),name='block_1_pool'+block)(layer)\n",
        "\n",
        "    return layer"
      ],
      "execution_count": null,
      "outputs": []
    },
    {
      "cell_type": "code",
      "metadata": {
        "id": "QnZXRkRWGWt1"
      },
      "source": [
        "def block_2(layer,filter,block):\n",
        "\n",
        "    layer = Conv2D(filter,kernel_size=(3,3),dilation_rate=(1,1),padding='same',name='block_2_conv'+block)(layer)\n",
        "    layer = BatchNormalization(name='block_2_BN'+block)(layer)\n",
        "    #layer = MaxPool2D(pool_size=(2,2),name='block_2_pool'+block)(layer)\n",
        "\n",
        "    return layer"
      ],
      "execution_count": null,
      "outputs": []
    },
    {
      "cell_type": "code",
      "metadata": {
        "id": "vAX5FIaUKWxE"
      },
      "source": [
        "def feature_map_block(layer,filters,block):\n",
        "\n",
        "    block_1_output = block_1(layer,filters[0],filters[1],filters[2],block)\n",
        "    block_2_output = block_2(layer,filters[2],block)\n",
        "              \n",
        "    layer = Add(name='feature_map_block_add'+block)([block_1_output,block_2_output])\n",
        "    layer = Activation(activation='relu',name='feature_map_block_Acti'+block)(layer)\n",
        "\n",
        "    return layer"
      ],
      "execution_count": null,
      "outputs": []
    },
    {
      "cell_type": "code",
      "metadata": {
        "id": "ZDXXfeBaLgC-"
      },
      "source": [
        "def feature_map(layer):\n",
        "\n",
        "    layer = feature_map_block(layer,[32,32,64],'_a')\n",
        "    layer = feature_map_block(layer,[64,64,128],'_b')\n",
        "    layer = feature_map_block(layer,[128,128,3],'_c')\n",
        "\n",
        "    return layer"
      ],
      "execution_count": null,
      "outputs": []
    },
    {
      "cell_type": "code",
      "metadata": {
        "id": "XrNe_bl63ShV"
      },
      "source": [
        "def pyramid_pooling(layer):\n",
        "\n",
        "    features = feature_map(layer)\n",
        "\n",
        "    red = GlobalAveragePooling2D()(features)\n",
        "    red = Reshape((1,1,256))(red)\n",
        "    red = Conv2D(64,kernel_size=(3,3),padding='same',dilation_rate=(1,1),name='red_conv')(red)\n",
        "\n",
        "    orange = AveragePooling2D(pool_size=(2,2))(features)\n",
        "    orange = Conv2D(64,kernel_size=(3,3),padding='same',dilation_rate=(1,1),name='orange_conv')(orange)\n",
        "\n",
        "    blue = AveragePooling2D(pool_size=(4,4))(features)\n",
        "    blue = Conv2D(64,kernel_size=(3,3),padding='same',dilation_rate=(1,1),name='blue_conv')(blue)\n",
        "\n",
        "    green = AveragePooling2D(pool_size=(8,8))(features)\n",
        "    green = Conv2D(64,kernel_size=(3,3),padding='same',dilation_rate=(1,1),name='green_conv')(green)\n",
        "\n",
        "    return red,orange,blue,green,features"
      ],
      "execution_count": null,
      "outputs": []
    },
    {
      "cell_type": "code",
      "metadata": {
        "id": "ov4VZidl73Eq"
      },
      "source": [
        "def upsampling(layer):\n",
        "\n",
        "    red, orange, blue, green, features= pyramid_pooling(layer)\n",
        "\n",
        "    red = UpSampling2D(size=512,interpolation='bilinear',name='red_upsampling')(red)\n",
        "    orange = UpSampling2D(size=16,interpolation='bilinear',name='orange_upsampling')(orange)\n",
        "    blue = UpSampling2D(size=32,interpolation='bilinear',name='blue_upsampling')(blue)\n",
        "    green= UpSampling2D(size=64,interpolation='bilinear',name='green_upsampling')(green)\n",
        "\n",
        "    features = UpSampling2D(size=8,interpolation='bilinear',name='features_upsampling')(features)\n",
        "\n",
        "    return concatenate([features,red,orange,blue,green],name='concatenate')"
      ],
      "execution_count": null,
      "outputs": []
    },
    {
      "cell_type": "code",
      "metadata": {
        "id": "wq4yeX5SPCgp"
      },
      "source": [
        "def last_layer(layer):\n",
        "\n",
        "    concat_layer = upsampling(layer)\n",
        "\n",
        "    final_layer = Conv2D(3,kernel_size=(3,3),padding='same',name='final_conv')(concat_layer)\n",
        "    final_layer = BatchNormalization(name='final_BN')(final_layer)\n",
        "    final_layer = Activation('softmax',name='final_acti')(final_layer)\n",
        "\n",
        "    return final_layer"
      ],
      "execution_count": null,
      "outputs": []
    },
    {
      "cell_type": "code",
      "metadata": {
        "id": "lFDRRlqRPfoT"
      },
      "source": [
        "input_layer=Input(shape=(512,512,3),name='Input_layer')\n",
        "output_layer=feature_map(input_layer)\n",
        "\n",
        "model=Model(inputs=input_layer,outputs=output_layer)\n",
        "model.compile(optimizer='adam',loss='categorical_crossentropy',metrics=['accuracy'])\n",
        "\n",
        "model.fit(image_train,label_train,epochs=10,batch_size=2)"
      ],
      "execution_count": null,
      "outputs": []
    },
    {
      "cell_type": "code",
      "metadata": {
        "id": "SGHQqZFdOtBu"
      },
      "source": [
        ""
      ],
      "execution_count": null,
      "outputs": []
    }
  ]
}