{
  "nbformat": 4,
  "nbformat_minor": 0,
  "metadata": {
    "colab": {
      "name": "LeNet-5.ipynb",
      "provenance": [],
      "private_outputs": true,
      "machine_shape": "hm",
      "authorship_tag": "ABX9TyOjcOLyOCuEs/+fvIlI7CEU",
      "include_colab_link": true
    },
    "kernelspec": {
      "name": "python3",
      "display_name": "Python 3"
    },
    "accelerator": "TPU"
  },
  "cells": [
    {
      "cell_type": "markdown",
      "metadata": {
        "id": "view-in-github",
        "colab_type": "text"
      },
      "source": [
        "<a href=\"https://colab.research.google.com/github/Rapheal-Jones/Image-segementation/blob/master/LeNet_5.ipynb\" target=\"_parent\"><img src=\"https://colab.research.google.com/assets/colab-badge.svg\" alt=\"Open In Colab\"/></a>"
      ]
    },
    {
      "cell_type": "code",
      "metadata": {
        "id": "2OLWLtUXYAk5"
      },
      "source": [
        "from google.colab import drive\n",
        "drive.mount('/content/drive')"
      ],
      "execution_count": null,
      "outputs": []
    },
    {
      "cell_type": "code",
      "metadata": {
        "id": "2TLjmoLmXbQG"
      },
      "source": [
        "%tensorflow_version 2.x\n",
        "%matplotlib inline\n",
        "import tensorflow as tf\n",
        "from tensorflow.keras import Sequential\n",
        "from tensorflow.keras.layers import Conv2D, MaxPool2D, Dense, Flatten, Activation\n",
        "import numpy as np\n",
        "import cv2\n",
        "import os\n",
        "import matplotlib.pyplot as plt\n",
        "import datetime\n"
      ],
      "execution_count": null,
      "outputs": []
    },
    {
      "cell_type": "code",
      "metadata": {
        "id": "K08_euKAEI4z"
      },
      "source": [
        "dir=['image','label']\n",
        "\n",
        "train_folder=\"/content/drive/My Drive/Project/sample_dataset/train/\"\n",
        "test_folder=\"/content/drive/My Drive/Project/sample_dataset/test/\"\n",
        "# validate_folder=\"/content/drive/My Drive/Project/sample_dataset/val/\"\n",
        "\n",
        "def images(path):\n",
        "\n",
        "    image,label=[],[]\n",
        "    folder_file=os.listdir(os.path.join(path,dir[0]))\n",
        "\n",
        "    for img in folder_file[:100]:\n",
        "        \n",
        "        img_path=os.path.join(path,dir[0],img)\n",
        "        lab_path=os.path.join(path,dir[1],img)\n",
        "        \n",
        "        img_arr=cv2.imread(img_path,cv2.IMREAD_UNCHANGED)\n",
        "        lab_arr=cv2.imread(lab_path,cv2.IMREAD_UNCHANGED)\n",
        "\n",
        "        img_normalize=cv2.normalize(img_arr,None,norm_type=cv2.NORM_MINMAX, dtype=cv2.CV_32F)\n",
        "        lab_normalize=cv2.normalize(lab_arr,None,norm_type=cv2.NORM_MINMAX, dtype=cv2.CV_32F)\n",
        "\n",
        "        lab_resize=cv2.resize(lab_normalize,(126,126))\n",
        "        #lab_flat=lab_arr.flatten()\n",
        "\n",
        "        image.append(img_normalize)\n",
        "        label.append(lab_resize)\n",
        "    \n",
        "    return np.array(image),np.array(label)\n",
        "\n",
        "images,label=images(train_folder)\n",
        "# plt.imshow(label[3])\n",
        "\n",
        "\n",
        "#image_train, label_train=images(train_folder)\n",
        "\n",
        "# image_test,label_test=images(test_folder)\n",
        "\n",
        "# image_val, label_val=images(validate_folder)"
      ],
      "execution_count": null,
      "outputs": []
    },
    {
      "cell_type": "code",
      "metadata": {
        "id": "FZnwdL2VDjhd"
      },
      "source": [
        "input_shape=(512,512,3)"
      ],
      "execution_count": null,
      "outputs": []
    },
    {
      "cell_type": "code",
      "metadata": {
        "id": "xMArO6IL1TGa"
      },
      "source": [
        "label.shape"
      ],
      "execution_count": null,
      "outputs": []
    },
    {
      "cell_type": "code",
      "metadata": {
        "id": "Xp9xaRzy4OtL"
      },
      "source": [
        "images.shape"
      ],
      "execution_count": null,
      "outputs": []
    },
    {
      "cell_type": "code",
      "metadata": {
        "id": "YG21Rq47zmt5"
      },
      "source": [
        "model=Sequential()\n",
        "model.add(Conv2D(100,kernel_size=(3,3),activation='relu',use_bias=True,input_shape=input_shape))\n",
        "model.add(MaxPool2D(pool_size=(2,2)))\n",
        "\n",
        "model.add(Conv2D(50,kernel_size=(3,3),activation='relu',use_bias=True))\n",
        "model.add(MaxPool2D(pool_size=(2,2)))\n",
        "\n",
        "#model.add(Flatten())\n",
        "model.add(Dense(10,activation='relu'))\n",
        "\n",
        "model.add(Dense(1,activation='softmax'))\n",
        "\n",
        "model.compile(optimizer='adam',loss='categorical_crossentropy',metrics=['accuracy'])\n",
        "\n",
        "model.summary()"
      ],
      "execution_count": null,
      "outputs": []
    },
    {
      "cell_type": "code",
      "metadata": {
        "id": "eiW5Cwa0E3m0"
      },
      "source": [
        "model.fit(images,label,epoch=10,batch_size=10)"
      ],
      "execution_count": null,
      "outputs": []
    },
    {
      "cell_type": "code",
      "metadata": {
        "id": "R6Xc5q2xzrRM"
      },
      "source": [
        ""
      ],
      "execution_count": null,
      "outputs": []
    }
  ]
}