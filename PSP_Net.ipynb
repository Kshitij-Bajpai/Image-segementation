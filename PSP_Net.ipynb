{
  "nbformat": 4,
  "nbformat_minor": 0,
  "metadata": {
    "colab": {
      "name": "PSP Net.ipynb",
      "provenance": [],
      "collapsed_sections": [],
      "machine_shape": "hm",
      "include_colab_link": true
    },
    "kernelspec": {
      "name": "python3",
      "display_name": "Python 3"
    },
    "accelerator": "TPU"
  },
  "cells": [
    {
      "cell_type": "markdown",
      "metadata": {
        "id": "view-in-github",
        "colab_type": "text"
      },
      "source": [
        "<a href=\"https://colab.research.google.com/github/Rapheal-Jones/Image-segementation/blob/master/PSP_Net.ipynb\" target=\"_parent\"><img src=\"https://colab.research.google.com/assets/colab-badge.svg\" alt=\"Open In Colab\"/></a>"
      ]
    },
    {
      "cell_type": "code",
      "metadata": {
        "id": "xjs7rE2GGcuQ"
      },
      "source": [
        "%tensorflow_version 2.x\n",
        "import tensorflow as tf"
      ],
      "execution_count": null,
      "outputs": []
    },
    {
      "cell_type": "code",
      "metadata": {
        "id": "SgON4WysClcA",
        "outputId": "04280041-d070-437f-fe8d-9a56c2b3fe62",
        "colab": {
          "base_uri": "https://localhost:8080/",
          "height": 34
        }
      },
      "source": [
        "from google.colab import drive\n",
        "drive.mount('/drive/')"
      ],
      "execution_count": null,
      "outputs": [
        {
          "output_type": "stream",
          "text": [
            "Drive already mounted at /drive/; to attempt to forcibly remount, call drive.mount(\"/drive/\", force_remount=True).\n"
          ],
          "name": "stdout"
        }
      ]
    },
    {
      "cell_type": "code",
      "metadata": {
        "id": "MHprp8sWzE7J"
      },
      "source": [
        "import cv2\n",
        "import numpy as np\n",
        "import os\n",
        "from tensorflow.keras.layers import Convolution2D\n",
        "from tensorflow.keras.layers import BatchNormalization\n",
        "from tensorflow.keras.layers import ReLU,LeakyReLU\n",
        "from tensorflow.keras.layers import Add,Activation\n",
        "from tensorflow.keras.layers import GlobalAveragePooling2D,AveragePooling2D\n",
        "from tensorflow.keras.layers import UpSampling2D"
      ],
      "execution_count": null,
      "outputs": []
    },
    {
      "cell_type": "code",
      "metadata": {
        "id": "qcwacoxsXI1q"
      },
      "source": [
        "#dataset path\n",
        "\n",
        "train_folder=\"/drive/My Drive/Project/datasets/train/\"\n",
        "#test_folder=\"/drive/My Drive/Project/datasets/test/\"\n",
        "validate_folder=\"/drive/My Drive/Project/datasets/val/\"\n"
      ],
      "execution_count": null,
      "outputs": []
    },
    {
      "cell_type": "code",
      "metadata": {
        "id": "p7S98djlNvgi"
      },
      "source": [
        "#load images\n",
        "def images(path,k1,k2):\n",
        "    i=0\n",
        "    image,label=[],[]\n",
        "    folder_file=os.listdir(os.path.join(path,dir[0]))\n",
        "    \n",
        "    for img in folder_file[k1:k2]:\n",
        "        \n",
        "        img_path=os.path.join(path,dir[0],img)\n",
        "        img_arr=cv2.imread(img_path,cv2.IMREAD_UNCHANGED)\n",
        "        img_normalize=cv2.normalize(img_arr,None,norm_type=cv2.NORM_MINMAX, dtype=cv2.CV_32F)\n",
        "        image.append(img_normalize)\n",
        "\n",
        "        lab_path=os.path.join(path,dir[1],img)\n",
        "        lab_arr=cv2.imread(lab_path,cv2.IMREAD_COLOR)\n",
        "        lab_normalize=cv2.normalize(lab_arr,None,norm_type=cv2.NORM_MINMAX, dtype=cv2.CV_32F)\n",
        "        label.append(lab_normalize)\n",
        "        \n",
        "        i+=1\n",
        "        print(i,end=' ')\n",
        "\n",
        "    return np.array(image),np.array(label)\n"
      ],
      "execution_count": null,
      "outputs": []
    },
    {
      "cell_type": "code",
      "metadata": {
        "id": "edMv1WdUI-Rf",
        "outputId": "a37fb3d5-6e11-4d6a-fed3-bf2bb0570f29",
        "colab": {
          "base_uri": "https://localhost:8080/",
          "height": 368
        }
      },
      "source": [
        "dir=['image','label']\n",
        "\n",
        "image_train, label_train=images(train_folder,0,500)\n",
        "print()\n",
        "#image_test,label_test=images(test_folder)\n",
        "print()\n",
        "image_val, label_val=images(validate_folder,0,150)\n",
        "\n",
        "val_data=(image_val,label_val)"
      ],
      "execution_count": null,
      "outputs": [
        {
          "output_type": "stream",
          "text": [
            "1 2 3 4 5 6 7 8 9 10 11 12 13 14 15 16 17 18 19 20 21 22 23 24 25 26 27 28 29 30 31 32 33 34 35 36 37 38 39 40 41 42 43 44 45 46 47 48 "
          ],
          "name": "stdout"
        },
        {
          "output_type": "error",
          "ename": "KeyboardInterrupt",
          "evalue": "ignored",
          "traceback": [
            "\u001b[0;31m---------------------------------------------------------------------------\u001b[0m",
            "\u001b[0;31mKeyboardInterrupt\u001b[0m                         Traceback (most recent call last)",
            "\u001b[0;32m<ipython-input-11-c741880d43fa>\u001b[0m in \u001b[0;36m<module>\u001b[0;34m()\u001b[0m\n\u001b[1;32m      1\u001b[0m \u001b[0mdir\u001b[0m\u001b[0;34m=\u001b[0m\u001b[0;34m[\u001b[0m\u001b[0;34m'image'\u001b[0m\u001b[0;34m,\u001b[0m\u001b[0;34m'label'\u001b[0m\u001b[0;34m]\u001b[0m\u001b[0;34m\u001b[0m\u001b[0;34m\u001b[0m\u001b[0m\n\u001b[1;32m      2\u001b[0m \u001b[0;34m\u001b[0m\u001b[0m\n\u001b[0;32m----> 3\u001b[0;31m \u001b[0mimage_train\u001b[0m\u001b[0;34m,\u001b[0m \u001b[0mlabel_train\u001b[0m\u001b[0;34m=\u001b[0m\u001b[0mimages\u001b[0m\u001b[0;34m(\u001b[0m\u001b[0mtrain_folder\u001b[0m\u001b[0;34m,\u001b[0m\u001b[0;36m0\u001b[0m\u001b[0;34m,\u001b[0m\u001b[0;36m500\u001b[0m\u001b[0;34m)\u001b[0m\u001b[0;34m\u001b[0m\u001b[0;34m\u001b[0m\u001b[0m\n\u001b[0m\u001b[1;32m      4\u001b[0m \u001b[0mprint\u001b[0m\u001b[0;34m(\u001b[0m\u001b[0;34m)\u001b[0m\u001b[0;34m\u001b[0m\u001b[0;34m\u001b[0m\u001b[0m\n\u001b[1;32m      5\u001b[0m \u001b[0;31m#image_test,label_test=images(test_folder)\u001b[0m\u001b[0;34m\u001b[0m\u001b[0;34m\u001b[0m\u001b[0;34m\u001b[0m\u001b[0m\n",
            "\u001b[0;32m<ipython-input-10-e2c9a736535b>\u001b[0m in \u001b[0;36mimages\u001b[0;34m(path, k1, k2)\u001b[0m\n\u001b[1;32m      8\u001b[0m \u001b[0;34m\u001b[0m\u001b[0m\n\u001b[1;32m      9\u001b[0m         \u001b[0mimg_path\u001b[0m\u001b[0;34m=\u001b[0m\u001b[0mos\u001b[0m\u001b[0;34m.\u001b[0m\u001b[0mpath\u001b[0m\u001b[0;34m.\u001b[0m\u001b[0mjoin\u001b[0m\u001b[0;34m(\u001b[0m\u001b[0mpath\u001b[0m\u001b[0;34m,\u001b[0m\u001b[0mdir\u001b[0m\u001b[0;34m[\u001b[0m\u001b[0;36m0\u001b[0m\u001b[0;34m]\u001b[0m\u001b[0;34m,\u001b[0m\u001b[0mimg\u001b[0m\u001b[0;34m)\u001b[0m\u001b[0;34m\u001b[0m\u001b[0;34m\u001b[0m\u001b[0m\n\u001b[0;32m---> 10\u001b[0;31m         \u001b[0mimg_arr\u001b[0m\u001b[0;34m=\u001b[0m\u001b[0mcv2\u001b[0m\u001b[0;34m.\u001b[0m\u001b[0mimread\u001b[0m\u001b[0;34m(\u001b[0m\u001b[0mimg_path\u001b[0m\u001b[0;34m,\u001b[0m\u001b[0mcv2\u001b[0m\u001b[0;34m.\u001b[0m\u001b[0mIMREAD_UNCHANGED\u001b[0m\u001b[0;34m)\u001b[0m\u001b[0;34m\u001b[0m\u001b[0;34m\u001b[0m\u001b[0m\n\u001b[0m\u001b[1;32m     11\u001b[0m         \u001b[0mimg_normalize\u001b[0m\u001b[0;34m=\u001b[0m\u001b[0mcv2\u001b[0m\u001b[0;34m.\u001b[0m\u001b[0mnormalize\u001b[0m\u001b[0;34m(\u001b[0m\u001b[0mimg_arr\u001b[0m\u001b[0;34m,\u001b[0m\u001b[0;32mNone\u001b[0m\u001b[0;34m,\u001b[0m\u001b[0mnorm_type\u001b[0m\u001b[0;34m=\u001b[0m\u001b[0mcv2\u001b[0m\u001b[0;34m.\u001b[0m\u001b[0mNORM_MINMAX\u001b[0m\u001b[0;34m,\u001b[0m \u001b[0mdtype\u001b[0m\u001b[0;34m=\u001b[0m\u001b[0mcv2\u001b[0m\u001b[0;34m.\u001b[0m\u001b[0mCV_32F\u001b[0m\u001b[0;34m)\u001b[0m\u001b[0;34m\u001b[0m\u001b[0;34m\u001b[0m\u001b[0m\n\u001b[1;32m     12\u001b[0m         \u001b[0mimage\u001b[0m\u001b[0;34m.\u001b[0m\u001b[0mappend\u001b[0m\u001b[0;34m(\u001b[0m\u001b[0mimg_normalize\u001b[0m\u001b[0;34m)\u001b[0m\u001b[0;34m\u001b[0m\u001b[0;34m\u001b[0m\u001b[0m\n",
            "\u001b[0;31mKeyboardInterrupt\u001b[0m: "
          ]
        }
      ]
    },
    {
      "cell_type": "code",
      "metadata": {
        "id": "7FxhV_Aa0Ors"
      },
      "source": [
        "def conv_block(X,filters,block):\n",
        "    # resiudal block with dilated convolutions\n",
        "    # add skip connection at last after doing convoluion operation to input X\n",
        "    \n",
        "    b = 'Layer_'+block+'_'\n",
        "    f1,f2,f3 = filters\n",
        "    X_skip = X\n",
        "    # block_a\n",
        "    X = Convolution2D(filters=f1,kernel_size=(1,1),dilation_rate=(1,1),padding='same',kernel_initializer='he_normal',name=b+'a')(X)\n",
        "    X = BatchNormalization(name=b+'batch_norm_a')(X)\n",
        "    X = LeakyReLU(alpha=0.2,name=b+'leakyrelu_a')(X)\n",
        "    # block_b\n",
        "    X = Convolution2D(filters=f2,kernel_size=(3,3),dilation_rate=(2,2),padding='same',kernel_initializer='he_normal',name=b+'b')(X)\n",
        "    X = BatchNormalization(name=b+'batch_norm_b')(X)\n",
        "    X = LeakyReLU(alpha=0.2,name=b+'leakyrelu_b')(X)\n",
        "    # block_c\n",
        "    X = Convolution2D(filters=f3,kernel_size=(1,1),dilation_rate=(1,1),padding='same',kernel_initializer='he_normal',name=b+'c')(X)\n",
        "    X = BatchNormalization(name=b+'batch_norm_c')(X)\n",
        "    # skip_conv\n",
        "    X_skip = Convolution2D(filters=f3,kernel_size=(3,3),padding='same',name=b+'skip_conv')(X_skip)\n",
        "    X_skip = BatchNormalization(name=b+'batch_norm_skip_conv')(X_skip)\n",
        "    # block_c + skip_conv\n",
        "    X = Add(name=b+'add')([X,X_skip])\n",
        "    X = ReLU(name=b+'relu')(X)\n",
        "    return X"
      ],
      "execution_count": null,
      "outputs": []
    },
    {
      "cell_type": "code",
      "metadata": {
        "id": "SqHFktN40xaE"
      },
      "source": [
        "def base_feature_maps(input_layer):\n",
        "    # base covolution module to get input image feature maps \n",
        "    \n",
        "    # block_1\n",
        "    base = conv_block(input_layer,[32,32,64],'1')\n",
        "    # block_2\n",
        "    base = conv_block(base,[64,64,128],'2')\n",
        "    # block_3\n",
        "    base = conv_block(base,[128,128,256],'3')\n",
        "    \n",
        "    return base"
      ],
      "execution_count": null,
      "outputs": []
    },
    {
      "cell_type": "code",
      "metadata": {
        "id": "9MtQDs_e1wnL"
      },
      "source": [
        "def pyramid_feature_maps(input_layer):\n",
        "    # pyramid pooling module\n",
        "    \n",
        "    base = base_feature_maps(input_layer)\n",
        "    # red\n",
        "    red = GlobalAveragePooling2D(name='red_pool')(base)\n",
        "    red = tf.keras.layers.Reshape((1,1,256))(red)\n",
        "    red = Convolution2D(filters=64,kernel_size=(1,1),name='red_1_by_1')(red)\n",
        "    red = UpSampling2D(size=512,interpolation='bilinear',name='red_upsampling')(red)\n",
        "    # yellow\n",
        "    yellow = AveragePooling2D(pool_size=(2,2),name='yellow_pool')(base)\n",
        "    yellow = Convolution2D(filters=64,kernel_size=(1,1),name='yellow_1_by_1')(yellow)\n",
        "    yellow = UpSampling2D(size=2,interpolation='bilinear',name='yellow_upsampling')(yellow)\n",
        "    # blue\n",
        "    blue = AveragePooling2D(pool_size=(4,4),name='blue_pool')(base)\n",
        "    blue = Convolution2D(filters=64,kernel_size=(1,1),name='blue_1_by_1')(blue)\n",
        "    blue = UpSampling2D(size=4,interpolation='bilinear',name='blue_upsampling')(blue)\n",
        "    # green\n",
        "    green = AveragePooling2D(pool_size=(8,8),name='green_pool')(base)\n",
        "    green = Convolution2D(filters=64,kernel_size=(1,1),name='green_1_by_1')(green)\n",
        "    green = UpSampling2D(size=8,interpolation='bilinear',name='green_upsampling')(green)\n",
        "    # base + red + yellow + blue + green\n",
        "    \n",
        "    return tf.keras.layers.concatenate([base,red,yellow,blue,green])"
      ],
      "execution_count": null,
      "outputs": []
    },
    {
      "cell_type": "code",
      "metadata": {
        "id": "2W-52WFE11Le"
      },
      "source": [
        "def last_conv_module(input_layer):\n",
        "    X = pyramid_feature_maps(input_layer)\n",
        "    X = Convolution2D(filters=3,kernel_size=3,padding='same',name='last_conv_3_by_3')(X)\n",
        "    X = BatchNormalization(name='last_conv_3_by_3_batch_norm')(X)\n",
        "    X = Activation('softmax',name='last_conv_relu')(X)\n",
        "    return X"
      ],
      "execution_count": null,
      "outputs": []
    },
    {
      "cell_type": "code",
      "metadata": {
        "id": "DbxzeKXlZ-zJ"
      },
      "source": [
        "\n",
        "input_layer = tf.keras.Input(shape=(512,512,3),name='input')\n",
        "output_layer = last_conv_module(input_layer)\n",
        "\n",
        "model = tf.keras.Model(inputs=input_layer,outputs=output_layer)\n",
        "model.compile(optimizer='Adam',loss='categorical_crossentropy',metrics=['accuracy'])\n"
      ],
      "execution_count": null,
      "outputs": []
    },
    {
      "cell_type": "code",
      "metadata": {
        "id": "AMB5DCizJ9f_"
      },
      "source": [
        "#model=tf.keras.models.load_model(\"/drive/My Drive/Project/save/images_500\")"
      ],
      "execution_count": null,
      "outputs": []
    },
    {
      "cell_type": "code",
      "metadata": {
        "id": "wMUF1QTecSpz",
        "outputId": "ca327d6b-931c-4473-edd8-182641a30b86",
        "colab": {
          "base_uri": "https://localhost:8080/",
          "height": 289
        }
      },
      "source": [
        "model.fit(image_train,label_train,validation_data=val_data,epochs=10,batch_size=2)\n"
      ],
      "execution_count": null,
      "outputs": [
        {
          "output_type": "stream",
          "text": [
            "Epoch 1/10\n",
            "250/250 [==============================] - 2561s 10s/step - loss: 0.6457 - accuracy: 0.3160 - val_loss: 0.1311 - val_accuracy: 0.2751\n",
            "Epoch 2/10\n",
            "250/250 [==============================] - 2562s 10s/step - loss: 0.6417 - accuracy: 0.3079 - val_loss: 0.1311 - val_accuracy: 0.3057\n",
            "Epoch 3/10\n",
            "250/250 [==============================] - 2567s 10s/step - loss: 0.6417 - accuracy: 0.3026 - val_loss: 0.1311 - val_accuracy: 0.4672\n",
            "Epoch 4/10\n",
            "250/250 [==============================] - 2561s 10s/step - loss: 0.6417 - accuracy: 0.2977 - val_loss: 0.1310 - val_accuracy: 0.3929\n",
            "Epoch 5/10\n",
            "250/250 [==============================] - 2557s 10s/step - loss: 0.6417 - accuracy: 0.2954 - val_loss: 0.1310 - val_accuracy: 0.3879\n",
            "Epoch 6/10\n",
            "250/250 [==============================] - 2567s 10s/step - loss: 0.6417 - accuracy: 0.2958 - val_loss: 0.1310 - val_accuracy: 0.3887\n",
            "Epoch 7/10\n",
            "250/250 [==============================] - 2565s 10s/step - loss: 0.6417 - accuracy: 0.2992 - val_loss: 0.1310 - val_accuracy: 0.4900\n",
            "Epoch 8/10\n",
            " 10/250 [>.............................] - ETA: 35:18 - loss: 0.5989 - accuracy: 0.3053"
          ],
          "name": "stdout"
        }
      ]
    },
    {
      "cell_type": "code",
      "metadata": {
        "id": "9-kdqCVdKE6B"
      },
      "source": [
        "model.save(\"/drive/My Drive/Project/save/images_500\")"
      ],
      "execution_count": null,
      "outputs": []
    },
    {
      "cell_type": "code",
      "metadata": {
        "id": "0nSoZhTKYM4G"
      },
      "source": [
        "#model.evaluate(image_test,label_test)"
      ],
      "execution_count": null,
      "outputs": []
    },
    {
      "cell_type": "code",
      "metadata": {
        "id": "wbNiHFdbXDgt"
      },
      "source": [
        "#model.summary()"
      ],
      "execution_count": null,
      "outputs": []
    }
  ]
}